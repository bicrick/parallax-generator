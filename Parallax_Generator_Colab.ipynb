{
  "cells": [
    {
      "cell_type": "markdown",
      "metadata": {},
      "source": [
        "# 🎨 Parallax Generator - Google Colab Edition\n",
        "\n",
        "Generate beautiful parallax layers for seamless horizontal tiling!\n",
        "\n",
        "**Features:**\n",
        "- 🚀 **5x faster** than local M3 MacBook Pro\n",
        "- 🔄 **Circular padding** for perfect tiling\n",
        "- 🎯 **3-layer parallax** (background, midground, foreground)\n",
        "- 💾 **Smart caching** - models load once, use many times\n",
        "- 📱 **Easy download** - get your PNG layers instantly\n",
        "\n",
        "---\n"
      ]
    }
  ],
  "metadata": {
    "language_info": {
      "name": "python"
    }
  },
  "nbformat": 4,
  "nbformat_minor": 2
}
